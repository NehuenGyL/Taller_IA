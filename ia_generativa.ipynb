{
 "cells": [
  {
   "cell_type": "code",
   "execution_count": 1,
   "metadata": {},
   "outputs": [],
   "source": [
    "from openai import OpenAI"
   ]
  },
  {
   "cell_type": "code",
   "execution_count": 2,
   "metadata": {},
   "outputs": [],
   "source": [
    "client = OpenAI()"
   ]
  },
  {
   "cell_type": "code",
   "execution_count": 5,
   "metadata": {},
   "outputs": [
    {
     "name": "stdout",
     "output_type": "stream",
     "text": [
      "Di algo para comenzar la conversación o 'exit' para salir.\n",
      "Asistente: No puedo sentir emociones, pero estoy aquí para ayudarte. ¿En qué puedo ayudarte hoy?\n",
      "Nos vemos\n"
     ]
    }
   ],
   "source": [
    "def generar_respuesta(mensaje_usuario):\n",
    "    chat_history = [{\"role\": \"system\", \"content\": \"Solo responde con sintaxis java\"}]\n",
    "    chat_history.append({\"role\": \"user\", \"content\": mensaje_usuario})\n",
    "    \n",
    "    response = client.chat.completions.create(\n",
    "        model=\"gpt-3.5-turbo-1106\",\n",
    "        messages=chat_history,\n",
    "        temperature=0.7\n",
    "    )\n",
    "\n",
    "    respuesta = response.choices[0].message.content\n",
    "    return respuesta\n",
    "\n",
    "def generar_audio(respuesta):\n",
    "    response_audio = client.audio.speech.create(\n",
    "        model=\"tts-1\",\n",
    "        voice=\"alloy\",\n",
    "        input=respuesta\n",
    "    )\n",
    "\n",
    "    with open(\"output.mp3\", \"wb\") as audio_file:\n",
    "        audio_file.write(response_audio.content)\n",
    "\n",
    "def main():\n",
    "    print(\"Di algo para comenzar la conversación o 'exit' para salir.\")\n",
    "    while True:\n",
    "        mensaje_usuario = input(\"Tú: \")\n",
    "        if mensaje_usuario.lower() == \"exit\":\n",
    "            print(\"Nos vemos\")\n",
    "            break\n",
    "\n",
    "        respuesta = generar_respuesta(mensaje_usuario)\n",
    "        print(\"Asistente:\", respuesta)\n",
    "\n",
    "        # Generar y guardar el archivo de audio\n",
    "        generar_audio(respuesta)\n",
    "\n",
    "if __name__ == \"__main__\":\n",
    "    main()"
   ]
  },
  {
   "cell_type": "code",
   "execution_count": 3,
   "metadata": {},
   "outputs": [
    {
     "name": "stdout",
     "output_type": "stream",
     "text": [
      "https://oaidalleapiprodscus.blob.core.windows.net/private/org-9d9pLchwNLWBLksLqUvTOPJd/user-ZQh8rRjrtc5VqRVGtVPfmhhR/img-3pgaVFfBareUnckAErL7sECi.png?st=2024-03-07T16%3A39%3A23Z&se=2024-03-07T18%3A39%3A23Z&sp=r&sv=2021-08-06&sr=b&rscd=inline&rsct=image/png&skoid=6aaadede-4fb3-4698-a8f6-684d7786b067&sktid=a48cca56-e6da-484e-a814-9c849652bcb3&skt=2024-03-07T16%3A08%3A48Z&ske=2024-03-08T16%3A08%3A48Z&sks=b&skv=2021-08-06&sig=hS3dr/Gtcum%2BgZGahKHFOo2Pi8W7nzjAk%2By1Zj6XYJc%3D\n"
     ]
    }
   ],
   "source": [
    "response = client.images.generate(\n",
    "  model=\"dall-e-2\",\n",
    "  prompt=\"a white  cat\",\n",
    "  size=\"1024x1024\",\n",
    "  quality=\"standard\",\n",
    "  n=1,\n",
    ")\n",
    "\n",
    "image_url = response.data[0].url\n",
    "print(image_url)"
   ]
  }
 ],
 "metadata": {
  "kernelspec": {
   "display_name": "Python 3",
   "language": "python",
   "name": "python3"
  },
  "language_info": {
   "codemirror_mode": {
    "name": "ipython",
    "version": 3
   },
   "file_extension": ".py",
   "mimetype": "text/x-python",
   "name": "python",
   "nbconvert_exporter": "python",
   "pygments_lexer": "ipython3",
   "version": "3.11.8"
  }
 },
 "nbformat": 4,
 "nbformat_minor": 2
}
